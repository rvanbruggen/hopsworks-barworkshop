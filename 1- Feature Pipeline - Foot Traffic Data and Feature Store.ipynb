{
 "cells": [
  {
   "cell_type": "markdown",
   "metadata": {},
   "source": [
    "### --- Step 1: Setup and Imports ---"
   ]
  },
  {
   "cell_type": "code",
   "execution_count": 2,
   "metadata": {},
   "outputs": [
    {
     "name": "stdout",
     "output_type": "stream",
     "text": [
      "Connected. Call `.close()` to terminate connection gracefully.\n",
      "\n",
      "Multiple projects found. \n",
      "\n",
      "\t (1) GraphEmbeddingsDemo\n",
      "\t (2) rixdemo\n",
      "\t (3) BeerVolumePrediction\n",
      "\n",
      "Logged in to project, explore it here https://c.app.hopsworks.ai:443/p/189590\n",
      "Connected. Call `.close()` to terminate connection gracefully.\n"
     ]
    }
   ],
   "source": [
    "import pandas as pd\n",
    "import requests\n",
    "import time\n",
    "import datetime\n",
    "import hopsworks\n",
    "# import exclude.key\n",
    "\n",
    "# Hopsworks\n",
    "# HOPSWORKS_API_KEY = exclude.key.HOPSWORKS_API_KEY\n",
    "FEATURE_GROUP_NAME = \"bars_near_london_bridge\"\n",
    "FEATURE_GROUP_VERSION = 3\n",
    "\n",
    "# Besttime API\n",
    "BESTTIME_API_KEY_PRIVATE = \"pri_8279765341b14a2a9790ee962c870bd2\"\n",
    "BESTTIME_API_KEY_PUBLIC = \"pub_d15a771a69984449a1008b43dc1c8eb5\"\n",
    "BAR_LOCATION = 'London Bridge, London'\n",
    "NUMBER_OF_BARS = 50\n",
    "\n",
    "# Connect to Hopsworks\n",
    "project = hopsworks.login()\n",
    "fs = project.get_feature_store()"
   ]
  },
  {
   "cell_type": "markdown",
   "metadata": {},
   "source": [
    "### --- Step 2: Create or Get Feature Group ---"
   ]
  },
  {
   "cell_type": "code",
   "execution_count": 3,
   "metadata": {},
   "outputs": [],
   "source": [
    "def get_or_create_feature_group():\n",
    "    try:\n",
    "        fg = fs.get_feature_group(name=FEATURE_GROUP_NAME, version=FEATURE_GROUP_VERSION)\n",
    "    except:\n",
    "        fg = fs.create_feature_group(\n",
    "            name=FEATURE_GROUP_NAME,\n",
    "            version=FEATURE_GROUP_VERSION,\n",
    "            description=\"Foot traffic data for bars near London Bridge\",\n",
    "            primary_key=['venue_name', 'day', 'hour'],\n",
    "            event_time='last_updated',\n",
    "            online_enabled=True\n",
    "        )\n",
    "    return fg\n"
   ]
  },
  {
   "cell_type": "markdown",
   "metadata": {},
   "source": [
    "### --- Step 3: Perform Venue Search ---"
   ]
  },
  {
   "cell_type": "code",
   "execution_count": 4,
   "metadata": {},
   "outputs": [],
   "source": [
    "def perform_venue_search(api_key=BESTTIME_API_KEY_PRIVATE):\n",
    "    print(\"Performing venue search\")\n",
    "    endpoint = 'https://besttime.app/api/v1/venues/search'\n",
    "    params = {\n",
    "        'api_key_private': api_key,\n",
    "        'q': f'bars near {BAR_LOCATION}',\n",
    "        'num': NUMBER_OF_BARS,\n",
    "        'format': 'all'  # Retrieve full forecast data\n",
    "    }\n",
    "    response = requests.post(endpoint, params=params)\n",
    "    search_data = response.json()\n",
    "    \n",
    "    job_progress_url = search_data['_links']['venue_search_progress']\n",
    "    print(f\"Venue search initiated. Progress URL: {job_progress_url}\")\n",
    "    return job_progress_url\n"
   ]
  },
  {
   "cell_type": "markdown",
   "metadata": {},
   "source": [
    "### --- Step 4: Retrieve Venue Search Results ---"
   ]
  },
  {
   "cell_type": "code",
   "execution_count": 5,
   "metadata": {},
   "outputs": [],
   "source": [
    "def retrieve_venue_search_results(job_progress_url):\n",
    "    print(\"Retrieving venue search results...\")\n",
    "    while True:\n",
    "        response = requests.get(job_progress_url)\n",
    "        progress_data = response.json()\n",
    "        if progress_data['job_finished']:\n",
    "            break\n",
    "        time.sleep(5)\n",
    "    venues = progress_data['venues']\n",
    "    print(f\"Found {len(venues)} venues.\")\n",
    "    return venues\n"
   ]
  },
  {
   "cell_type": "markdown",
   "metadata": {},
   "source": [
    "### --- Step 5: Extract Historical Data ---"
   ]
  },
  {
   "cell_type": "code",
   "execution_count": 6,
   "metadata": {},
   "outputs": [],
   "source": [
    "def extract_historical_data(venues):\n",
    "    print(\"Extracting historical data...\")\n",
    "    historical_data = []\n",
    "    for venue in venues:\n",
    "        if venue['forecast']:  # Check if venue has forecast data\n",
    "            forecast_data = venue['venue_foot_traffic_forecast']\n",
    "            for day_data in forecast_data['analysis']:\n",
    "                for hour_data in day_data['hour_analysis']:\n",
    "                    historical_data.append([\n",
    "                        venue['venue_name'],\n",
    "                        venue['venue_address'],\n",
    "                        day_data['day_info']['day_text'],\n",
    "                        hour_data['hour'],\n",
    "                        hour_data['intensity_txt']\n",
    "                    ])\n",
    "    return historical_data\n"
   ]
  },
  {
   "cell_type": "markdown",
   "metadata": {},
   "source": [
    "### --- Step 6: Backfill Historical Data ---"
   ]
  },
  {
   "cell_type": "code",
   "execution_count": 7,
   "metadata": {},
   "outputs": [],
   "source": [
    "def add_popularity_columns(df):\n",
    "    # Encode 'Busyness' into numerical values\n",
    "    busyness_mapping = {'Closed': 0, 'Low': 1, 'Below average': 2, 'Average': 3, 'Above average': 4, 'High': 5}\n",
    "    df['busyness_numeric'] = df['busyness'].map(busyness_mapping)\n",
    "\n",
    "    # Calculate popularity score as a weighted average of busyness levels\n",
    "    df_popularity = df.groupby(['venue_name', 'venue_address']).agg({\n",
    "        'busyness_numeric': ['mean', 'std']\n",
    "    }).reset_index()\n",
    "\n",
    "    df_popularity.columns = ['venue_name', 'venue_address', 'busyness_mean', 'busyness_std']\n",
    "\n",
    "    # Normalize the popularity score\n",
    "    df_popularity['popularity'] = df_popularity['busyness_mean'] / df_popularity['busyness_mean'].max()\n",
    "\n",
    "    # Merge the popularity back into the historical data\n",
    "    return df.merge(df_popularity[['venue_name', 'venue_address', 'popularity']], on=['venue_name', 'venue_address'])\n",
    "\n",
    "\n",
    "def backfill_historical_data(api_key=BESTTIME_API_KEY_PRIVATE):\n",
    "    print(\"Starting backfill\")\n",
    "    \n",
    "    # Perform venue search and retrieve results\n",
    "    job_progress_url = perform_venue_search(api_key)\n",
    "    venues = retrieve_venue_search_results(job_progress_url)\n",
    "\n",
    "    # Extract historical data from the venue search results\n",
    "    historical_data = extract_historical_data(venues)\n",
    "\n",
    "    # Convert to DataFrame\n",
    "    df_historical = pd.DataFrame(historical_data, columns=['Venue Name', 'Venue Address', 'Day', 'Hour', 'Busyness'])\n",
    "\n",
    "    # Rename columns to match feature store requirements\n",
    "    df_historical.columns = ['venue_name', 'venue_address', 'day', 'hour', 'busyness']\n",
    "\n",
    "    df_historical = add_popularity_columns(df_historical)\n",
    "\n",
    "    # Add last_updated column\n",
    "    df_historical['last_updated'] = datetime.datetime.now()\n",
    "\n",
    "    # Get or create the feature group\n",
    "    fg = get_or_create_feature_group()\n",
    "\n",
    "    # Insert historical data into the feature group\n",
    "    fg.insert(df_historical, write_options={\"wait\": True})\n",
    "    print(\"Historical data backfilled successfully, with added label for busyness.\")\n"
   ]
  },
  {
   "cell_type": "markdown",
   "metadata": {},
   "source": [
    "### --- Step 7: Query Real-Time Data ---"
   ]
  },
  {
   "cell_type": "code",
   "execution_count": 8,
   "metadata": {},
   "outputs": [],
   "source": [
    "def query_realtime_data(venue_id, api_key=BESTTIME_API_KEY_PRIVATE):\n",
    "    endpoint = 'https://besttime.app/api/v1/venues/analysis'\n",
    "    params = {\n",
    "        'api_key_private': api_key,\n",
    "        'venue_id': venue_id,\n",
    "        'format': 'all'\n",
    "    }\n",
    "    response = requests.post(endpoint, params=params)\n",
    "    return response.json()\n"
   ]
  },
  {
   "cell_type": "markdown",
   "metadata": {},
   "source": [
    "### --- Step 8: Update Real-Time Data ---"
   ]
  },
  {
   "cell_type": "code",
   "execution_count": 9,
   "metadata": {},
   "outputs": [],
   "source": [
    "def update_realtime_data(api_key=BESTTIME_API_KEY_PRIVATE):\n",
    "    # Perform venue search and retrieve results\n",
    "    job_progress_url = perform_venue_search(api_key)\n",
    "    venues = retrieve_venue_search_results(job_progress_url)\n",
    "\n",
    "    # Extract real-time data from the venue search results\n",
    "    historical_data = extract_historical_data(venues)\n",
    "\n",
    "    # Convert to DataFrame\n",
    "    df_historical = pd.DataFrame(historical_data, columns=['Venue Name', 'Venue Address', 'Day', 'Hour', 'Busyness'])\n",
    "\n",
    "    # Rename columns to match feature store requirements\n",
    "    df_historical.columns = ['venue_name', 'venue_address', 'day', 'hour', 'busyness']\n",
    "\n",
    "    df_historical = add_popularity_columns(df_historical)\n",
    "\n",
    "    # Add last_updated column\n",
    "    df_historical['last_updated'] = datetime.datetime.now()\n",
    "\n",
    "    # Insert real-time data into the feature group\n",
    "    fg = get_or_create_feature_group()\n",
    "    fg.insert(df_historical, write_options={\"wait\": True})\n",
    "    print(\"Real-time data updated successfully.\")\n"
   ]
  },
  {
   "cell_type": "markdown",
   "metadata": {},
   "source": [
    "### --- Step 9: Main Function ---"
   ]
  },
  {
   "cell_type": "code",
   "execution_count": 10,
   "metadata": {},
   "outputs": [
    {
     "name": "stdout",
     "output_type": "stream",
     "text": [
      "Starting backfill\n",
      "Performing venue search\n",
      "Venue search initiated. Progress URL: https://besttime.app/api/v1/venues/progress?job_id=11ddde4b-8cde-442f-9fc1-ffc0a182e934&collection_id=col_2c5a99fb3234430fa17032a653ccb471&format=all\n",
      "Retrieving venue search results...\n",
      "Found 40 venues.\n",
      "Extracting historical data...\n",
      "Feature Group created successfully, explore it at \n",
      "https://c.app.hopsworks.ai:443/p/189590/fs/189509/fg/910666\n"
     ]
    },
    {
     "data": {
      "application/vnd.jupyter.widget-view+json": {
       "model_id": "74857e306332480eb52dac3fd0f81496",
       "version_major": 2,
       "version_minor": 0
      },
      "text/plain": [
       "Uploading Dataframe: 0.00% |          | Rows 0/4200 | Elapsed Time: 00:00 | Remaining Time: ?"
      ]
     },
     "metadata": {},
     "output_type": "display_data"
    },
    {
     "name": "stdout",
     "output_type": "stream",
     "text": [
      "Launching job: bars_near_london_bridge_3_offline_fg_materialization\n",
      "Job started successfully, you can follow the progress at \n",
      "https://c.app.hopsworks.ai/p/189590/jobs/named/bars_near_london_bridge_3_offline_fg_materialization/executions\n",
      "Historical data backfilled successfully, with added label for busyness.\n"
     ]
    }
   ],
   "source": [
    "backfill_historical_data()"
   ]
  },
  {
   "cell_type": "code",
   "execution_count": 11,
   "metadata": {},
   "outputs": [
    {
     "name": "stdout",
     "output_type": "stream",
     "text": [
      "Performing venue search\n",
      "Venue search initiated. Progress URL: https://besttime.app/api/v1/venues/progress?job_id=50ecc5f0-d13f-4a5e-a455-ee22ccf9fcd3&collection_id=col_b4bf9fe00e144bd8a03c5bd8dc5b0745&format=all\n",
      "Retrieving venue search results...\n",
      "Found 40 venues.\n",
      "Extracting historical data...\n"
     ]
    },
    {
     "data": {
      "application/vnd.jupyter.widget-view+json": {
       "model_id": "026f99c2e4b54a0f9dd41bdb3c919716",
       "version_major": 2,
       "version_minor": 0
      },
      "text/plain": [
       "Uploading Dataframe: 0.00% |          | Rows 0/4872 | Elapsed Time: 00:00 | Remaining Time: ?"
      ]
     },
     "metadata": {},
     "output_type": "display_data"
    },
    {
     "name": "stdout",
     "output_type": "stream",
     "text": [
      "Launching job: bars_near_london_bridge_3_offline_fg_materialization\n",
      "Job started successfully, you can follow the progress at \n",
      "https://c.app.hopsworks.ai/p/189590/jobs/named/bars_near_london_bridge_3_offline_fg_materialization/executions\n",
      "Real-time data updated successfully.\n"
     ]
    }
   ],
   "source": [
    "update_realtime_data()"
   ]
  },
  {
   "cell_type": "code",
   "execution_count": 12,
   "metadata": {},
   "outputs": [
    {
     "name": "stdout",
     "output_type": "stream",
     "text": [
      "Starting backfill\n",
      "Performing venue search\n",
      "Venue search initiated. Progress URL: https://besttime.app/api/v1/venues/progress?job_id=11ddde4b-8cde-442f-9fc1-ffc0a182e934&collection_id=col_2c5a99fb3234430fa17032a653ccb471&format=all\n",
      "Retrieving venue search results...\n",
      "Found 40 venues.\n",
      "Extracting historical data...\n"
     ]
    },
    {
     "data": {
      "application/vnd.jupyter.widget-view+json": {
       "model_id": "09467c11e0f04a449d07be7073f5b548",
       "version_major": 2,
       "version_minor": 0
      },
      "text/plain": [
       "Uploading Dataframe: 0.00% |          | Rows 0/4032 | Elapsed Time: 00:00 | Remaining Time: ?"
      ]
     },
     "metadata": {},
     "output_type": "display_data"
    },
    {
     "name": "stdout",
     "output_type": "stream",
     "text": [
      "Launching job: bars_near_london_bridge_3_offline_fg_materialization\n",
      "Job started successfully, you can follow the progress at \n",
      "https://c.app.hopsworks.ai/p/189590/jobs/named/bars_near_london_bridge_3_offline_fg_materialization/executions\n",
      "Historical data backfilled successfully, with added label for busyness.\n",
      "Performing venue search\n",
      "Venue search initiated. Progress URL: https://besttime.app/api/v1/venues/progress?job_id=69633cc9-d0ef-48c2-ba52-fa5b36613544&collection_id=col_d49df8f3adf04d2797a9623351e54b6b&format=all\n",
      "Retrieving venue search results...\n",
      "Found 40 venues.\n",
      "Extracting historical data...\n"
     ]
    },
    {
     "data": {
      "application/vnd.jupyter.widget-view+json": {
       "model_id": "c243a36d07b04026ad3d1879f3887e4c",
       "version_major": 2,
       "version_minor": 0
      },
      "text/plain": [
       "Uploading Dataframe: 0.00% |          | Rows 0/4872 | Elapsed Time: 00:00 | Remaining Time: ?"
      ]
     },
     "metadata": {},
     "output_type": "display_data"
    },
    {
     "name": "stdout",
     "output_type": "stream",
     "text": [
      "Launching job: bars_near_london_bridge_3_offline_fg_materialization\n",
      "Job started successfully, you can follow the progress at \n",
      "https://c.app.hopsworks.ai/p/189590/jobs/named/bars_near_london_bridge_3_offline_fg_materialization/executions\n",
      "Real-time data updated successfully.\n"
     ]
    }
   ],
   "source": [
    "def main():\n",
    "    # Call backfill_historical_data() once to backfill\n",
    "    # Uncomment the next line to perform backfill\n",
    "    backfill_historical_data()\n",
    "\n",
    "    # Call update_realtime_data() periodically to update with real-time data\n",
    "    update_realtime_data()\n",
    "\n",
    "if __name__ == \"__main__\":\n",
    "    main()\n"
   ]
  }
 ],
 "metadata": {
  "kernelspec": {
   "display_name": "Python 3 (ipykernel)",
   "language": "python",
   "name": "python3"
  },
  "language_info": {
   "codemirror_mode": {
    "name": "ipython",
    "version": 3
   },
   "file_extension": ".py",
   "mimetype": "text/x-python",
   "name": "python",
   "nbconvert_exporter": "python",
   "pygments_lexer": "ipython3",
   "version": "3.11.9"
  }
 },
 "nbformat": 4,
 "nbformat_minor": 4
}
