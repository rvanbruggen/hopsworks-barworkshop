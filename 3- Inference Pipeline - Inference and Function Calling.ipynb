{
 "cells": [
  {
   "cell_type": "markdown",
   "metadata": {},
   "source": [
    "### --- Step 1: Imports ---"
   ]
  },
  {
   "cell_type": "code",
   "execution_count": null,
   "metadata": {},
   "outputs": [],
   "source": [
    "from functions.llm_chain import generate_response_openai"
   ]
  },
  {
   "cell_type": "code",
   "execution_count": null,
   "metadata": {},
   "outputs": [],
   "source": [
    "import hopsworks\n",
    "import exclude.key\n",
    "from openai import OpenAI\n",
    "import os\n",
    "import getpass\n",
    "import joblib\n",
    "\n",
    "# Hopsworks\n",
    "HOPSWORKS_API_KEY = exclude.key.HOPSWORKS_API_KEY\n",
    "OPENAI_API_KEY = exclude.key.OPENAI_API_KEY\n",
    "\n",
    "FEATURE_GROUP_NAME = \"bars_near_london_bridge\"\n",
    "FEATURE_VIEW_NAME = \"busyness_feature_view\"\n",
    "FEATURE_GROUP_VERSION = 3\n",
    "FEATURE_VIEW_VERSION = 4\n",
    "\n",
    "project = hopsworks.login(api_key_value=HOPSWORKS_API_KEY)\n",
    "fs = project.get_feature_store()"
   ]
  },
  {
   "cell_type": "code",
   "execution_count": null,
   "metadata": {},
   "outputs": [],
   "source": [
    "fg = fs.get_feature_group(\n",
    "    name=FEATURE_GROUP_NAME, \n",
    "    version=FEATURE_GROUP_VERSION,\n",
    ")\n",
    "fg"
   ]
  },
  {
   "cell_type": "markdown",
   "metadata": {},
   "source": [
    "## -- Step 2 Retrieve Feature View -- "
   ]
  },
  {
   "cell_type": "code",
   "execution_count": null,
   "metadata": {},
   "outputs": [],
   "source": [
    "# Retrieve the 'busyness_feature_view'\n",
    "feature_view = fs.get_feature_view(\n",
    "    name=FEATURE_VIEW_NAME,\n",
    "    version=FEATURE_VIEW_VERSION,\n",
    ")\n",
    "\n",
    "# Initialize batch scoring\n",
    "feature_view.init_batch_scoring(1)\n",
    "feature_view"
   ]
  },
  {
   "cell_type": "code",
   "execution_count": null,
   "metadata": {},
   "outputs": [],
   "source": [
    "# Retrieve the model registry\n",
    "mr = project.get_model_registry()\n",
    "\n",
    "# Retrieve the 'busyness_xgboost_model' from the model registry\n",
    "retrieved_model = mr.get_model(\n",
    "    name=\"xgboost_busyness\",\n",
    "    version=3,\n",
    ")\n",
    "retrieved_model"
   ]
  },
  {
   "cell_type": "code",
   "execution_count": null,
   "metadata": {},
   "outputs": [],
   "source": [
    "model_dir = \"busyness_model\"\n",
    "\n",
    "# Retrieve the model registry\n",
    "mr = project.get_model_registry()\n",
    "\n",
    "# Retrieve the 'busyness_xgboost_model' from the model registry\n",
    "retrieved_model = mr.get_model(\n",
    "    name=\"xgboost_busyness\",\n",
    "    version=3,\n",
    ")\n",
    "\n",
    "# Download the saved model artifacts to a local directory\n",
    "saved_model_dir = retrieved_model.download()\n",
    "saved_model_dir = \"./\"\n",
    "\n",
    "# Load the XGBoost regressor model and label encoder from the saved model directory\n",
    "model_busyness = joblib.load(saved_model_dir + f\"{model_dir}/xgboost_busyness.pkl\")\n",
    "# encoder = joblib.load(saved_model_dir + \"/label_encoder.pkl\")\n",
    "\n",
    "# Display the retrieved XGBoost regressor model\n",
    "model_busyness\n"
   ]
  },
  {
   "cell_type": "markdown",
   "metadata": {},
   "source": [
    "## -- Step 3 Ask the Question! -- "
   ]
  },
  {
   "cell_type": "code",
   "execution_count": null,
   "metadata": {},
   "outputs": [],
   "source": [
    "\n",
    "client = OpenAI(\n",
    "    api_key=OPENAI_API_KEY,\n",
    ")"
   ]
  },
  {
   "cell_type": "code",
   "execution_count": null,
   "metadata": {},
   "outputs": [],
   "source": [
    "QUESTION = \"What will be the best bar to go in an hour from now next to London Bridge?\"\n",
    "\n",
    "response = generate_response_openai(   \n",
    "    QUESTION,\n",
    "    feature_view,\n",
    "    model_busyness,\n",
    "    client,\n",
    "    verbose=True,\n",
    ")\n",
    "print(response)"
   ]
  },
  {
   "cell_type": "code",
   "execution_count": null,
   "metadata": {},
   "outputs": [],
   "source": []
  }
 ],
 "metadata": {
  "kernelspec": {
   "display_name": "Python 3 (ipykernel)",
   "language": "python",
   "name": "python3"
  },
  "language_info": {
   "codemirror_mode": {
    "name": "ipython",
    "version": 3
   },
   "file_extension": ".py",
   "mimetype": "text/x-python",
   "name": "python",
   "nbconvert_exporter": "python",
   "pygments_lexer": "ipython3",
   "version": "3.1.-1"
  }
 },
 "nbformat": 4,
 "nbformat_minor": 4
}
